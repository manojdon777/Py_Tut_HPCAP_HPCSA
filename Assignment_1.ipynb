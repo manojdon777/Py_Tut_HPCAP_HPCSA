{
 "cells": [
  {
   "cell_type": "markdown",
   "id": "c7cc8990",
   "metadata": {},
   "source": [
    "#### Q1. What are the key features of Python? \n",
    "**Ans** - <font color = 'blue'> Key features of python are as follows:</font> \n",
    "- Programmer friendly  \n",
    "* Simple to debug  \n",
    "* Free and Open source  \n",
    "* Vast library support  \n",
    "* Dynamically typed language  \n",
    "* OOPS support: High level language  \n",
    "* Python is interpreted language"
   ]
  },
  {
   "cell_type": "markdown",
   "id": "58e159db",
   "metadata": {},
   "source": [
    "#### Q2. What are the Data Types in  Python? \n",
    "**Ans** - <font color = 'blue'>Data Types in  Python are as follows: </font> \n",
    "- <font color = 'blue'>Numeric</font> :- int, float, complex\n",
    "* <font color = 'blue'>Text</font>:- str\n",
    "* <font color = 'blue'>Sequence</font>:- list, tuple, range\n",
    "* <font color = 'blue'>SetDt</font>:- set, frozenset\n",
    "* <font color = 'blue'>Mapping</font>:- dict\n",
    "* <font color = 'blue'>Boolean</font>:- bool\n",
    "* <font color = 'blue'>Binary</font>:- bytes"
   ]
  },
  {
   "cell_type": "markdown",
   "id": "66d87971",
   "metadata": {},
   "source": [
    "#### Q3. What are local variables and global variables in Python?? \n",
    "**Ans** - <font color = 'blue'>Local variables</font> are those which are initialized inside a function and belongs only to that particular function. It cannot be accessed anywhere outside the function.<br>\n",
    "        <font color = 'blue'>The global variables</font> are those which are defined outside any function and which are accessible throughout the program i.e. inside and outside of every function"
   ]
  },
  {
   "cell_type": "markdown",
   "id": "46d2c5ae",
   "metadata": {},
   "source": [
    "#### Q4. How do you write comments in python? And Why Comments are important?\n",
    "**Ans** - Sinle line comments are done using # sumbol. Multiline comments are written using # at the begining of every line.<br>\n",
    "Triple quoote are also used for commenting lines.\n",
    "Comments makes programme readable and easy to understand."
   ]
  },
  {
   "cell_type": "code",
   "execution_count": null,
   "id": "60f524b3",
   "metadata": {},
   "outputs": [],
   "source": [
    "print('Single line commment')\n",
    "# random text\n",
    "print('Multiline Comment')"
   ]
  },
  {
   "cell_type": "markdown",
   "id": "9fb0389e",
   "metadata": {},
   "source": [
    "#### Q5: How to comment on multiple lines in python?\n",
    "**Ans** - Using # symbol at the beginning of all lines which are to be commented"
   ]
  },
  {
   "cell_type": "code",
   "execution_count": null,
   "id": "27037b19",
   "metadata": {},
   "outputs": [],
   "source": [
    "# This is my text for comment\n",
    "# This is achieved using # comment\n",
    "# Demo for multiline"
   ]
  },
  {
   "cell_type": "markdown",
   "id": "cb8128b0",
   "metadata": {},
   "source": [
    "#### Q6. What do you mean by Python literals?\n",
    "**Ans** - Any data initialized to variable in python is called literal.\n",
    "It can be int, float, complex, list, tuple, set etc.  \n",
    "**Example**:-  \n",
    "1. String literals\n",
    "2. Numeric literals\n",
    "3. Boolean literals\n",
    "4. Complex literals\n",
    "5. Literal Collections\n",
    "6. Special literals"
   ]
  },
  {
   "cell_type": "markdown",
   "id": "807b7c16",
   "metadata": {},
   "source": [
    "#### Q7. What are different ways to assign value to variables?\n",
    "**Ans** - Following are the ways to assign value to variable  \n",
    "<font color='blue'>1. Single variable as ==></font> var = 10  \n",
    "<font color='blue'>2. Multi variable as ==></font> var1, var2, var3 = 10, 20,  30  \n",
    "<font color='blue'>3. Increament as ==></font>  var += 1  \n",
    "<font color='blue'>4. Same value to set of variables as ==></font> var1 = var2 = var3 = 35  \n",
    "<font color='blue'>5. By passing value as arg to user defined function as ==></font> Function(val, val2)  \n",
    "<font color='blue'>6. Global and Local initialization.</font>"
   ]
  },
  {
   "cell_type": "markdown",
   "id": "41e6b340",
   "metadata": {},
   "source": [
    "#### Q8. What are the Escape Characters in python?  \n",
    "**Ans** - Characters which illegal for string in python are called Escape Characters.  \n",
    "They are written inside string with \\(back slash) followed by excape characters.  \n",
    "Examples:-\n",
    "1. \\' \tSingle Quote  \n",
    "2. \\\\ \tBackslash  \n",
    "3. \\n \tNew Line  \n",
    "4. \\r \tCarriage Return  \n",
    "5. \\t \tTab"
   ]
  },
  {
   "cell_type": "markdown",
   "id": "e28876b8",
   "metadata": {},
   "source": [
    "#### Q9. Which are the different ways to perform string formatting? Explain with examples.\n",
    "**Ans** - String formating is done in following 3 ways  \n",
    "<font color = 'blue'>**1. Using format()**</font>  \n",
    "&emsp;&emsp;&emsp;char = 'A'  \n",
    "&emsp;&emsp;&emsp;index = 3  \n",
    "&emsp;&emsp;&emsp;print('Character {} is found at {} index'.format(char, index))  \n",
    "<font color = 'blue'>**2. Using f-string**</font>  \n",
    "&emsp;&emsp;&emsp;char = 'A'  \n",
    "&emsp;&emsp;&emsp;index = 3  \n",
    "&emsp;&emsp;&emsp;print(f'CHaracter {char} is present at index {index}')  \n",
    "<font color = 'blue'>**3. Percent operator**</font>  \n",
    "&emsp;&emsp;&emsp;char = 'A'  \n",
    "&emsp;&emsp;&emsp;index = 3  \n",
    "&emsp;&emsp;&emsp;print('Character %s is at index %d'%(char, index))"
   ]
  },
  {
   "cell_type": "markdown",
   "id": "85473b9b",
   "metadata": {},
   "source": [
    "#### Q10. Write a program to print every character of a string entered by the user in a new line using a loop"
   ]
  },
  {
   "cell_type": "code",
   "execution_count": 3,
   "id": "82368063",
   "metadata": {},
   "outputs": [
    {
     "name": "stdout",
     "output_type": "stream",
     "text": [
      "Enter stringabcd\n",
      "a\n",
      "b\n",
      "c\n",
      "d\n"
     ]
    }
   ],
   "source": [
    "string = input('Enter string')\n",
    "for char in string:\n",
    "    print(char)"
   ]
  },
  {
   "cell_type": "markdown",
   "id": "394bcdd0",
   "metadata": {},
   "source": [
    "#### Q11. Write a program to find the length of the string \"machine learning\" with and without using len function."
   ]
  },
  {
   "cell_type": "code",
   "execution_count": 6,
   "id": "ffc5c4ca",
   "metadata": {},
   "outputs": [
    {
     "name": "stdout",
     "output_type": "stream",
     "text": [
      "Length using len function: 16\n",
      "Length without using len function: 16\n"
     ]
    }
   ],
   "source": [
    "string = \"machine learning\"\n",
    "print('Length using len function:',len(string))\n",
    "count = 0\n",
    "for char in string:\n",
    "    count += 1\n",
    "print('Length without using len function:',count)"
   ]
  },
  {
   "cell_type": "markdown",
   "id": "eaa610d3",
   "metadata": {},
   "source": [
    "#### Q12. Write a program to check if the word 'orange' is present in the \"This is orange juice\"."
   ]
  },
  {
   "cell_type": "code",
   "execution_count": 1,
   "id": "24954eaf",
   "metadata": {},
   "outputs": [
    {
     "name": "stdout",
     "output_type": "stream",
     "text": [
      "STring is present\n"
     ]
    }
   ],
   "source": [
    "flag = \"This is orange juice\".find('orange')\n",
    "if flag == -1:\n",
    "    print('String is not present')\n",
    "else:\n",
    "    print('STring is present')"
   ]
  },
  {
   "cell_type": "markdown",
   "id": "f4024291",
   "metadata": {},
   "source": [
    "#### Q13. Write a program to find the number of vowels, consonants, digits, and white space characters in a string."
   ]
  },
  {
   "cell_type": "code",
   "execution_count": 21,
   "id": "74a22d55",
   "metadata": {},
   "outputs": [
    {
     "name": "stdout",
     "output_type": "stream",
     "text": [
      "Vowels: 3\n",
      "Consonants 29\n",
      "Digits 14\n",
      "White spaces 9\n"
     ]
    }
   ],
   "source": [
    "string = 'Abcd KHF 5KFJG FRbfggbhIO45  645kv 498 h489ytrt 45 grkj'\n",
    "vowels = consonants = digits = whiteSpace = 0\n",
    "for char in string:\n",
    "    if char >= '0' and char <= '9':\n",
    "        digits += 1\n",
    "    elif char >= 'a' and char <= 'z' or char >= 'A' and char <= 'Z':\n",
    "        if char in ['a','e','i','o','u','A','E','I','O', 'U']:\n",
    "            vowels += 1\n",
    "        else:\n",
    "            consonants += 1\n",
    "    elif char in ['!','@','#','$','%','^','&','*']:\n",
    "        whiteSpace += 1\n",
    "print('Vowels:', vowels) \n",
    "print('Consonants', consonants)\n",
    "print('Digits', digits)\n",
    "print('White spaces', whiteSpace)  "
   ]
  },
  {
   "cell_type": "markdown",
   "id": "90d759b5",
   "metadata": {},
   "source": [
    "#### 14. Write a Python program to count Uppercase, Lowercase, special character, and numeric values in a given string."
   ]
  },
  {
   "cell_type": "code",
   "execution_count": 23,
   "id": "d6301961",
   "metadata": {},
   "outputs": [
    {
     "name": "stdout",
     "output_type": "stream",
     "text": [
      "UpperCase: 12\n",
      "LowerCase 20\n",
      "Special character 9\n",
      "Digits 14\n"
     ]
    }
   ],
   "source": [
    "string = 'Abcd KHF 5KFJG FRbfggbhIO45  645kv 498 h489ytrt 45 grkj'\n",
    "upperCase = lowerCase = digits = spChar = 0\n",
    "for char in string:\n",
    "    if char >= '0' and char <= '9':\n",
    "        digits += 1\n",
    "    elif char >= 'a' and char <= 'z':\n",
    "        lowerCase += 1\n",
    "    elif char >= 'A' and char <= 'Z':\n",
    "        upperCase += 1\n",
    "    elif char == ' ':\n",
    "        spChar += 1\n",
    "print('UpperCase:', upperCase) \n",
    "print('LowerCase', lowerCase)\n",
    "print('Special character', spChar)\n",
    "print('Digits', digits)  "
   ]
  },
  {
   "cell_type": "markdown",
   "id": "d515710b",
   "metadata": {},
   "source": [
    "#### Q15. Write a program to make a new string with all the consonants deleted from the string \"Hello, have a good day\"."
   ]
  },
  {
   "cell_type": "code",
   "execution_count": 28,
   "id": "434e5907",
   "metadata": {},
   "outputs": [
    {
     "data": {
      "text/plain": [
       "'eo, ae a oo a'"
      ]
     },
     "execution_count": 28,
     "metadata": {},
     "output_type": "execute_result"
    }
   ],
   "source": [
    "string = \"Hello, have a good day\"\n",
    "for char in string:\n",
    "    if char >= 'a' and char <= 'z' or char >= 'A' and char <= 'Z':\n",
    "        if char not in ['a','e','i','o','u','A','E','I','O', 'U']:\n",
    "            string = string.replace(char, '')\n",
    "string"
   ]
  },
  {
   "cell_type": "markdown",
   "id": "764b7eb7",
   "metadata": {},
   "source": [
    "#### Q16. Write a Python program to remove the nth index character from a non-empty string."
   ]
  },
  {
   "cell_type": "code",
   "execution_count": 32,
   "id": "5921ee0c",
   "metadata": {},
   "outputs": [
    {
     "data": {
      "text/plain": [
       "'12345679'"
      ]
     },
     "execution_count": 32,
     "metadata": {},
     "output_type": "execute_result"
    }
   ],
   "source": [
    "string = '123456789'\n",
    "n = 6\n",
    "newString = string[:n+1]+string[n:]\n",
    "newString"
   ]
  },
  {
   "cell_type": "markdown",
   "id": "00b188da",
   "metadata": {},
   "source": [
    "#### Q17. Write a Python program to change a given string to a new string where the first and last characters have been exchanged."
   ]
  },
  {
   "cell_type": "code",
   "execution_count": 7,
   "id": "071095db",
   "metadata": {},
   "outputs": [
    {
     "data": {
      "text/plain": [
       "'923456781'"
      ]
     },
     "execution_count": 7,
     "metadata": {},
     "output_type": "execute_result"
    }
   ],
   "source": [
    "string = '123456789'\n",
    "string = string[-1] + string[1:len(string)-1] + string[0]\n",
    "string"
   ]
  },
  {
   "cell_type": "markdown",
   "id": "4b235e09",
   "metadata": {},
   "source": [
    "#### Q18. Write a Python program to count the occurrences of each word in a given sentence. "
   ]
  },
  {
   "cell_type": "code",
   "execution_count": 16,
   "id": "83b1f4d5",
   "metadata": {},
   "outputs": [
    {
     "name": "stdout",
     "output_type": "stream",
     "text": [
      "aa is repeated  3 times\n",
      "bb is repeated  1 times\n",
      "cc is repeated  1 times\n",
      "aa is repeated  3 times\n",
      "dd is repeated  2 times\n",
      "ff is repeated  1 times\n",
      "hh is repeated  1 times\n",
      "dd is repeated  2 times\n",
      "aa is repeated  3 times\n"
     ]
    }
   ],
   "source": [
    "string = 'aa bb cc aa dd ff hh dd aa'\n",
    "string1 = string.split(' ')\n",
    "# for i in string1:\n",
    "#     if \n",
    "string1 = set(string1)\n",
    "for word in string1:\n",
    "    print('{} is repeated '.format(word), string.count(word), 'times')"
   ]
  },
  {
   "cell_type": "markdown",
   "id": "1a3745eb",
   "metadata": {},
   "source": [
    "#### Q19. How do you count the occurrence of a given character in a string?"
   ]
  },
  {
   "cell_type": "code",
   "execution_count": null,
   "id": "d3e88ce3",
   "metadata": {},
   "outputs": [],
   "source": [
    "Using string.count(char) method"
   ]
  },
  {
   "cell_type": "markdown",
   "id": "569b719b",
   "metadata": {},
   "source": [
    "#### Q20. Write a program to find last 10 characters of a string?"
   ]
  },
  {
   "cell_type": "code",
   "execution_count": 17,
   "id": "22465353",
   "metadata": {},
   "outputs": [
    {
     "name": "stdout",
     "output_type": "stream",
     "text": [
      "ghijklmnop\n"
     ]
    }
   ],
   "source": [
    "string = 'abcdefghijklmnop'\n",
    "print(string[-10:])"
   ]
  },
  {
   "cell_type": "markdown",
   "id": "c78d3178",
   "metadata": {},
   "source": [
    "#### Q21. WAP to convert a given string to all uppercase if it contains at least 2 uppercase characters in the first 4 characters."
   ]
  },
  {
   "cell_type": "code",
   "execution_count": 17,
   "id": "31e83e5c",
   "metadata": {},
   "outputs": [
    {
     "name": "stdout",
     "output_type": "stream",
     "text": [
      "ELIR RI THIRWOIH OHGTR\n"
     ]
    }
   ],
   "source": [
    "count = 0\n",
    "string = 'Eir ri thirwoih OHGTR'\n",
    "flag = False\n",
    "if string[0] >= 'A' and string[0] <='Z':\n",
    "    count += 1\n",
    "if string[1] >= 'A' and string[1]<='Z':\n",
    "    count += 1\n",
    "if string[2] >= 'A' and string[2]<='Z':\n",
    "    count += 1\n",
    "if string[3] >= 'A' and string[3]<='Z':\n",
    "    count += 1\n",
    "if count >=2:\n",
    "    string = string.upper()\n",
    "print(string)\n",
    "    "
   ]
  },
  {
   "cell_type": "markdown",
   "id": "20798b86",
   "metadata": {},
   "source": [
    "#### Q22. Write a Python program to remove a newline in Python."
   ]
  },
  {
   "cell_type": "code",
   "execution_count": 23,
   "id": "33bfe79d",
   "metadata": {},
   "outputs": [
    {
     "name": "stdout",
     "output_type": "stream",
     "text": [
      "Here is the string \n",
      "with new line\n",
      "Here is the string \n",
      "with new line\n"
     ]
    }
   ],
   "source": [
    "string = 'Here is the string \\nwith new line'\n",
    "print(string)\n",
    "for char in string:\n",
    "    if char == '\\n':\n",
    "        string.replace('\\n',\"\")\n",
    "print(string)"
   ]
  },
  {
   "cell_type": "markdown",
   "id": "68dffd76",
   "metadata": {},
   "source": [
    "#### Q23. Write a Python program to swap commas and dots in a string  \n",
    "○ Sample string:  \"32.054,23\"  \n",
    "○ Expected Output: \"32,054.23\" \n"
   ]
  },
  {
   "cell_type": "code",
   "execution_count": 9,
   "id": "8b6d4dcf",
   "metadata": {},
   "outputs": [
    {
     "name": "stdout",
     "output_type": "stream",
     "text": [
      "32,054.23\n"
     ]
    }
   ],
   "source": [
    "string = \"32.054,23\"\n",
    "newString = string.replace('.', 'TEMP')\n",
    "newString = newString.replace(',', '.')\n",
    "newString = newString.replace('TEMP', ',')\n",
    "# for char in string:\n",
    "#     if char == \".\":\n",
    "#         newString = string.replace(char,',')\n",
    "#     if char == \",\":\n",
    "#         newString = string.replace(char,'.')\n",
    "\n",
    "print(newString)"
   ]
  },
  {
   "cell_type": "markdown",
   "id": "51ce020f",
   "metadata": {},
   "source": [
    "#### Q24. Write a Python program to find the first repeated character in a given string"
   ]
  },
  {
   "cell_type": "code",
   "execution_count": 24,
   "id": "ae9b5a9d",
   "metadata": {},
   "outputs": [
    {
     "name": "stdout",
     "output_type": "stream",
     "text": [
      "First repeated character is o\n"
     ]
    }
   ],
   "source": [
    "string = 'Govt Engineering College, Aurangabad.'\n",
    "flag = False\n",
    "for char in string:\n",
    "    if string.count(char) >= 2:\n",
    "        flag = True\n",
    "        break\n",
    "if flag:\n",
    "    print('First repeated character is', char)\n",
    "else:\n",
    "    print('No character is repeated')\n",
    "        "
   ]
  },
  {
   "cell_type": "markdown",
   "id": "4b51fbea",
   "metadata": {},
   "source": [
    "#### Q25. Write a Python program to find the second most repeated word in a given string "
   ]
  },
  {
   "cell_type": "code",
   "execution_count": 13,
   "id": "f52ee906",
   "metadata": {},
   "outputs": [],
   "source": [
    "frequency = []\n",
    "string = 'aa bb gg ss bb rr yy ff yy ee dd'\n",
    "string = string.split(' ')\n",
    "wcount = 0\n",
    "for word in string:\n",
    "    if word not in frequency:\n",
    "        wcount = string.count(word)\n",
    "        frequency.append(word)\n",
    "#     print(word, wcount)\n"
   ]
  },
  {
   "cell_type": "markdown",
   "id": "0f384e45",
   "metadata": {},
   "source": [
    "#### Q26. Python program to Count Even and Odd numbers in a string "
   ]
  },
  {
   "cell_type": "code",
   "execution_count": 11,
   "id": "adf7874f",
   "metadata": {},
   "outputs": [
    {
     "name": "stdout",
     "output_type": "stream",
     "text": [
      "Even: 11\n",
      "Odd: 7\n"
     ]
    }
   ],
   "source": [
    "string = '9898760412 995 84268'\n",
    "odd = 0\n",
    "even = 0\n",
    "for char in string:\n",
    "    if char >= '0' and char <= '9':\n",
    "        if int(char) % 2 == 0:\n",
    "            even += 1\n",
    "        else:\n",
    "            odd += 1\n",
    "print('Even:',even)\n",
    "print('Odd:',odd)"
   ]
  },
  {
   "cell_type": "markdown",
   "id": "e1697643",
   "metadata": {},
   "source": [
    "#### Q27. How do you check if a string contains only digits?\n",
    "**Ans** - for every character, check if its ASCII value lies between ASCII value of 0 and 9.  \n",
    "**For Example**"
   ]
  },
  {
   "cell_type": "code",
   "execution_count": 13,
   "id": "173c8b4e",
   "metadata": {},
   "outputs": [
    {
     "name": "stdout",
     "output_type": "stream",
     "text": [
      "String contains only digits\n"
     ]
    }
   ],
   "source": [
    "string = 'ifgb98 j8u (*&hifd78 IHigt)'\n",
    "flag = True\n",
    "for char in string:\n",
    "    if char < '0' or char > '9':\n",
    "        flag = False\n",
    "if flag:\n",
    "    print('String contains only digits')\n",
    "else:\n",
    "    print('String contains not digit characters')\n",
    "    "
   ]
  },
  {
   "cell_type": "markdown",
   "id": "69b4523c",
   "metadata": {},
   "source": [
    "#### Q28. How do you remove a given character/word from String?\n",
    "**Ans** - By using remove method, mentioning second character as null string.  \n",
    "*for example*  \n",
    "string.replace(char,\"\")\n"
   ]
  },
  {
   "cell_type": "markdown",
   "id": "652f0d4c",
   "metadata": {},
   "source": [
    "#### Q29. Write a Python program to remove the characters which have odd index values of a given string"
   ]
  },
  {
   "cell_type": "code",
   "execution_count": 6,
   "id": "cb311e14",
   "metadata": {},
   "outputs": [
    {
     "name": "stdout",
     "output_type": "stream",
     "text": [
      "Rmv h hrceswihhv d ne auso  ie tig\n"
     ]
    }
   ],
   "source": [
    "string = 'Remove the characters which have odd index values of a given string'\n",
    "newString = ''\n",
    "for index, val in enumerate(string):\n",
    "    \n",
    "    if index % 2 == 0:\n",
    "        newString = newString + val\n",
    "print()\n",
    "print(newString)    "
   ]
  },
  {
   "cell_type": "markdown",
   "id": "a1b81dd4",
   "metadata": {},
   "source": [
    "#### Q30. Write a Python function to reverses a string if its length is a multiple of 5 "
   ]
  },
  {
   "cell_type": "code",
   "execution_count": 7,
   "id": "aac098f8",
   "metadata": {},
   "outputs": [
    {
     "data": {
      "text/plain": [
       "'jonam'"
      ]
     },
     "execution_count": 7,
     "metadata": {},
     "output_type": "execute_result"
    }
   ],
   "source": [
    "def reverse(string):\n",
    "    length = len(string)\n",
    "    if length%5 == 0:\n",
    "        return string[::-1]\n",
    "reverse('manoj')"
   ]
  },
  {
   "cell_type": "markdown",
   "id": "79339e2d",
   "metadata": {},
   "source": [
    "#### Q31. Write a Python program to format a number with a percentage(0.05 >> 5%)"
   ]
  },
  {
   "cell_type": "code",
   "execution_count": 53,
   "id": "d4481ec2",
   "metadata": {},
   "outputs": [
    {
     "name": "stdout",
     "output_type": "stream",
     "text": [
      "49\n"
     ]
    }
   ],
   "source": [
    "number = .49\n",
    "percent = int(number * 100)\n",
    "print(percent)"
   ]
  },
  {
   "cell_type": "markdown",
   "id": "b5ee5928",
   "metadata": {},
   "source": [
    "#### Q32. Write a Python program to reverse words in a string "
   ]
  },
  {
   "cell_type": "code",
   "execution_count": 11,
   "id": "493d3e26",
   "metadata": {},
   "outputs": [
    {
     "name": "stdout",
     "output_type": "stream",
     "text": [
      "uoY era a doog yob\n"
     ]
    }
   ],
   "source": [
    "string = 'You are a good boy'\n",
    "list1 = string.split(' ')\n",
    "list2 = []\n",
    "for word in list1:\n",
    "    list2.append(word[::-1])\n",
    "string = ' '.join(list2)\n",
    "print(string)"
   ]
  },
  {
   "cell_type": "markdown",
   "id": "e1c48654",
   "metadata": {},
   "source": [
    "#### Q33. Write a Python program to swap cases of a given string "
   ]
  },
  {
   "cell_type": "code",
   "execution_count": 13,
   "id": "ec9116f2",
   "metadata": {},
   "outputs": [
    {
     "name": "stdout",
     "output_type": "stream",
     "text": [
      "tHIS IS john USED TO SWAP CASES.\n"
     ]
    }
   ],
   "source": [
    "string = 'This is James BOND used to swap cases.'\n",
    "string = string.swapcase()\n",
    "print(string)"
   ]
  },
  {
   "cell_type": "markdown",
   "id": "932f6c41",
   "metadata": {},
   "source": [
    "#### Q34. Write a Python program to remove spaces from a given string"
   ]
  },
  {
   "cell_type": "code",
   "execution_count": 15,
   "id": "fbca2d9b",
   "metadata": {},
   "outputs": [
    {
     "name": "stdout",
     "output_type": "stream",
     "text": [
      "ThisisJOhnusedtoremovespacesfromstring.\n"
     ]
    }
   ],
   "source": [
    "string = 'This is JOhn used to remove spaces from string.'\n",
    "string = string.replace(' ','')\n",
    "print(string)"
   ]
  },
  {
   "cell_type": "markdown",
   "id": "1bd2f0f3",
   "metadata": {},
   "source": [
    "#### Q35. Write a Python program to remove duplicate characters of a given string"
   ]
  },
  {
   "cell_type": "code",
   "execution_count": 3,
   "id": "14f0b33b",
   "metadata": {},
   "outputs": [
    {
     "data": {
      "text/plain": [
       "'manoj dgre'"
      ]
     },
     "execution_count": 3,
     "metadata": {},
     "output_type": "execute_result"
    }
   ],
   "source": [
    "def rm_duplicate(string):\n",
    "    list1 = []\n",
    "    for char in string:\n",
    "        if char not in list1:\n",
    "            list1.append(char)    \n",
    "    return ''.join(list1)\n",
    "rm_duplicate('manoj dongare')"
   ]
  },
  {
   "cell_type": "markdown",
   "id": "01b2b114",
   "metadata": {},
   "source": [
    "#### Q36. Write a Python Program to find the area of a circle "
   ]
  },
  {
   "cell_type": "code",
   "execution_count": 20,
   "id": "2f4da74b",
   "metadata": {},
   "outputs": [
    {
     "name": "stdout",
     "output_type": "stream",
     "text": [
      "Area of circle is 9856.0\n"
     ]
    }
   ],
   "source": [
    "radius = 56\n",
    "PI = 22/7\n",
    "print('Area of circle is', PI*radius*radius)"
   ]
  },
  {
   "cell_type": "markdown",
   "id": "d6dccd56",
   "metadata": {},
   "source": [
    "#### Q37. Python Program to find Sum of squares of first n natural numbers"
   ]
  },
  {
   "cell_type": "code",
   "execution_count": null,
   "id": "e5867e2e",
   "metadata": {},
   "outputs": [],
   "source": [
    "n = 20\n",
    "print(f'sum of first {n} numbers is', n*(n+1)//2)"
   ]
  },
  {
   "cell_type": "markdown",
   "id": "d902a9c5",
   "metadata": {},
   "source": [
    "#### Q38. Python Program to find cube sum of first n natural numbers "
   ]
  },
  {
   "cell_type": "code",
   "execution_count": 18,
   "id": "6037c554",
   "metadata": {},
   "outputs": [
    {
     "name": "stdout",
     "output_type": "stream",
     "text": [
      "sum of first 20 numbers is 44100\n"
     ]
    }
   ],
   "source": [
    "n = 20\n",
    "print(f'sum of first {n} numbers is', n*(n+1)//2*n*(n+1)//2)"
   ]
  },
  {
   "cell_type": "markdown",
   "id": "4b945f5b",
   "metadata": {},
   "source": [
    "#### Q39.Python Program to find simple interest and compound interest"
   ]
  },
  {
   "cell_type": "code",
   "execution_count": 24,
   "id": "fe2e97aa",
   "metadata": {},
   "outputs": [
    {
     "name": "stdout",
     "output_type": "stream",
     "text": [
      "Simple Interest: 16800.0\n",
      "Compound Interest: 212055.09591810996\n"
     ]
    }
   ],
   "source": [
    "P = 20000\n",
    "T = 12\n",
    "R = 7\n",
    "simple_intr = (P*T*R)/100\n",
    "print('Simple Interest:',simple_intr)\n",
    "P = 32000\n",
    "R = 8\n",
    "r = 15\n",
    "n = 4\n",
    "t = 2\n",
    "compound_intr = P *(1 + n/r)**(n*t)\n",
    "print('Compound Interest:',compound_intr)"
   ]
  },
  {
   "cell_type": "markdown",
   "id": "82de5b0e",
   "metadata": {},
   "source": [
    "#### Q40. Python program to check whether a number is Prime or not"
   ]
  },
  {
   "cell_type": "code",
   "execution_count": 31,
   "id": "452b771d",
   "metadata": {},
   "outputs": [
    {
     "name": "stdout",
     "output_type": "stream",
     "text": [
      "False\n"
     ]
    }
   ],
   "source": [
    "import math\n",
    "def isPrime(num):\n",
    "    if num == 1:\n",
    "        return\n",
    "    if num%2 == 0 or num%3 == 0:\n",
    "        return False\n",
    "    for i in range(5, int(math.sqrt(num))+1):\n",
    "        if num%i == 0:\n",
    "            return False\n",
    "    return True\n",
    "print(isPrime(0))"
   ]
  }
 ],
 "metadata": {
  "kernelspec": {
   "display_name": "Python 3 (ipykernel)",
   "language": "python",
   "name": "python3"
  },
  "language_info": {
   "codemirror_mode": {
    "name": "ipython",
    "version": 3
   },
   "file_extension": ".py",
   "mimetype": "text/x-python",
   "name": "python",
   "nbconvert_exporter": "python",
   "pygments_lexer": "ipython3",
   "version": "3.9.7"
  }
 },
 "nbformat": 4,
 "nbformat_minor": 5
}
