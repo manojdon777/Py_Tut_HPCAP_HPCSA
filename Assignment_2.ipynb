{
 "cells": [
  {
   "cell_type": "markdown",
   "id": "d764d3dc",
   "metadata": {},
   "source": [
    "<center><h1> Assignment Solution 2</h1></center>\n",
    "<center><h2>Manoj Dongare</h2></center>"
   ]
  },
  {
   "cell_type": "markdown",
   "id": "1ca4fcb0",
   "metadata": {},
   "source": [
    "#### Q1. What is a List?\n",
    "<b>Ans - </b>List is a collection of items used to store sequence\n",
    "of various data types(int, float, list, tuple, set, dict, dataframe)\n",
    "Lists are mutable and can contains duplicates. These are ordered and are enclosed by square( [ ] ) brackets. <b>e.g.</b> list1 = [1, 2, 'c', ['c', 'd']]"
   ]
  },
  {
   "cell_type": "markdown",
   "id": "a7cea0bd",
   "metadata": {},
   "source": [
    "#### Q2. What is a Tuple?\n",
    "<b>Ans</b> - Tuples are same as lists and are immutable and are enclosed by round(( )) beackets. <b>e.g.</b> tuple1 = (2,3,4,5)"
   ]
  },
  {
   "cell_type": "markdown",
   "id": "b83d6fac",
   "metadata": {},
   "source": [
    "#### Q3. What is the difference between List and Tuple?\n",
    "<b>Ans - </b> Lists are mutable and enclosed within square brackets, where as Tuples are immutable and are enclosed within round brackets."
   ]
  },
  {
   "cell_type": "markdown",
   "id": "96d56bf4",
   "metadata": {},
   "source": [
    "#### Q4. Python Program to find the largest element in the list."
   ]
  },
  {
   "cell_type": "code",
   "execution_count": 15,
   "id": "e5673721",
   "metadata": {},
   "outputs": [
    {
     "name": "stdout",
     "output_type": "stream",
     "text": [
      "8\n"
     ]
    }
   ],
   "source": [
    "def findLargest(list1):\n",
    "    largest = list1[0]\n",
    "    for i in list1:\n",
    "        if largest < i:\n",
    "            largest = i\n",
    "    return largest\n",
    "        \n",
    "print(findLargest([1,3,2,5,6,8]))"
   ]
  },
  {
   "cell_type": "markdown",
   "id": "81e076c8",
   "metadata": {},
   "source": [
    "#### Q5. Python program to interchange first and last elements in a list."
   ]
  },
  {
   "cell_type": "code",
   "execution_count": 11,
   "id": "7094b912",
   "metadata": {},
   "outputs": [
    {
     "name": "stdout",
     "output_type": "stream",
     "text": [
      "[9, 2, 3, 4, 5, 6, 7, 8, 1]\n",
      "['y', 'e', 'l', 'o', 'c', 'i', 't', 'V']\n"
     ]
    }
   ],
   "source": [
    "def interchangeFIrstAndLast(list1):\n",
    "    list1[0], list1[-1] = list1[-1], list1[0]\n",
    "    return list1\n",
    "print(interchangeFIrstAndLast([1,2,3,4,5,6,7,8,9]))\n",
    "print(interchangeFIrstAndLast(['V','e','l','o','c','i','t','y']))"
   ]
  },
  {
   "cell_type": "markdown",
   "id": "87e4b255",
   "metadata": {},
   "source": [
    "#### Q6. Python program to swap two elements in a list."
   ]
  },
  {
   "cell_type": "code",
   "execution_count": 14,
   "id": "630d7028",
   "metadata": {},
   "outputs": [
    {
     "name": "stdout",
     "output_type": "stream",
     "text": [
      "[0, 1, 2, 7, 4, 5, 6, 3, 8, 9]\n"
     ]
    }
   ],
   "source": [
    "def swapTwoElements(lst, index1, index2):\n",
    "    lst[index1], lst[index2] = lst[index2], lst[index1]\n",
    "    return lst\n",
    "print(swapTwoElements([0,1,2,3,4,5,6,7,8,9], 7, 3))\n"
   ]
  },
  {
   "cell_type": "markdown",
   "id": "fd5f2df7",
   "metadata": {},
   "source": [
    "#### Q7. Python program to Reverse a List"
   ]
  },
  {
   "cell_type": "code",
   "execution_count": 16,
   "id": "c833849b",
   "metadata": {},
   "outputs": [
    {
     "name": "stdout",
     "output_type": "stream",
     "text": [
      "yticoleV\n"
     ]
    }
   ],
   "source": [
    "def reverse(lst):\n",
    "    return lst[::-1]\n",
    "print(reverse('Velocity'))"
   ]
  },
  {
   "cell_type": "markdown",
   "id": "487d849a",
   "metadata": {},
   "source": [
    "#### Q8. Python program to count occurrences of an element in a list"
   ]
  },
  {
   "cell_type": "code",
   "execution_count": 4,
   "id": "6ea35129",
   "metadata": {},
   "outputs": [
    {
     "name": "stdout",
     "output_type": "stream",
     "text": [
      "3\n"
     ]
    }
   ],
   "source": [
    "def frequency(element, lst):\n",
    "    return lst.count(element)\n",
    "print(frequency(3,[1,3,2,3,5,6,3,6,8,9]))"
   ]
  },
  {
   "cell_type": "markdown",
   "id": "a7742352",
   "metadata": {},
   "source": [
    "#### Q9. Python program to find the sum of elements in a list"
   ]
  },
  {
   "cell_type": "code",
   "execution_count": 20,
   "id": "9ee3d28e",
   "metadata": {},
   "outputs": [
    {
     "name": "stdout",
     "output_type": "stream",
     "text": [
      "45\n"
     ]
    }
   ],
   "source": [
    "def SUM(lst):\n",
    "    sum = 0;\n",
    "    for element in lst:\n",
    "        sum += element\n",
    "    return sum\n",
    "print(SUM([1,2,3,4,5,6,7,8,9]))"
   ]
  },
  {
   "cell_type": "markdown",
   "id": "250cdb6f",
   "metadata": {},
   "source": [
    "#### Q10. Python program to Multiply all numbers in the list"
   ]
  },
  {
   "cell_type": "code",
   "execution_count": 21,
   "id": "603099a3",
   "metadata": {},
   "outputs": [
    {
     "name": "stdout",
     "output_type": "stream",
     "text": [
      "362880\n"
     ]
    }
   ],
   "source": [
    "def MULTIPLY(lst):\n",
    "    product = 1;\n",
    "    for element in lst:\n",
    "        product *= element\n",
    "    return product\n",
    "print(MULTIPLY([1,2,3,4,5,6,7,8,9]))"
   ]
  },
  {
   "cell_type": "markdown",
   "id": "77fc13d4",
   "metadata": {},
   "source": [
    "#### Q11. What are the ways to find the length of a list"
   ]
  },
  {
   "cell_type": "code",
   "execution_count": 30,
   "id": "c002968f",
   "metadata": {},
   "outputs": [
    {
     "name": "stdout",
     "output_type": "stream",
     "text": [
      "10\n",
      "10\n",
      "10\n"
     ]
    }
   ],
   "source": [
    "######## Method-1 #########\n",
    "def len1(lst):\n",
    "    count = 0\n",
    "    for i in lst:\n",
    "        count += 1\n",
    "    return count\n",
    "\n",
    "######## Method-2 #########\n",
    "def len2(lst):\n",
    "    count = 0\n",
    "    for i in range(0, len(lst)):\n",
    "        count += 1\n",
    "    return count\n",
    "\n",
    "######## Method-3 #########\n",
    "def len3(lst):\n",
    "    return len(lst)\n",
    "\n",
    "print(len1([0,1,2,3,4,5,6,7,8,9]))\n",
    "print(len2([0,1,2,3,4,5,6,7,8,9]))\n",
    "print(len3([0,1,2,3,4,5,6,7,8,9]))\n"
   ]
  },
  {
   "cell_type": "markdown",
   "id": "b8be36a2",
   "metadata": {},
   "source": [
    "#### Q12. Python program to find the smallest and largest number in a list (Without min-max function)"
   ]
  },
  {
   "cell_type": "code",
   "execution_count": 33,
   "id": "cab1eb51",
   "metadata": {},
   "outputs": [
    {
     "name": "stdout",
     "output_type": "stream",
     "text": [
      "(8, 1)\n"
     ]
    }
   ],
   "source": [
    "def findSmallestAndLargest(list1):\n",
    "    largest = list1[0]\n",
    "    smallest = list1[0]\n",
    "    for i in list1:\n",
    "        if largest < i:\n",
    "            largest = i\n",
    "        if smallest > i:\n",
    "            smallest = i\n",
    "    return largest, smallest\n",
    "        \n",
    "print(findSmallestAndLargest([1,3,2,5,6,8]))"
   ]
  },
  {
   "cell_type": "markdown",
   "id": "839877f6",
   "metadata": {},
   "source": [
    "#### Q13. Python Program to find the area of a circle"
   ]
  },
  {
   "cell_type": "code",
   "execution_count": 42,
   "id": "6a4342fa",
   "metadata": {},
   "outputs": [
    {
     "name": "stdout",
     "output_type": "stream",
     "text": [
      "Area =  22.07071428571428\n"
     ]
    }
   ],
   "source": [
    "radius = 7\n",
    "PI = 22/7\n",
    "print('Area = ',PI*radius*radius)"
   ]
  },
  {
   "cell_type": "markdown",
   "id": "b4928ed8",
   "metadata": {},
   "source": [
    "#### Q14. Take inputs from the user to make a list. Again take one input from the user and search it in the list and delete that element, if found. Iterate over a list using for loop."
   ]
  },
  {
   "cell_type": "code",
   "execution_count": 26,
   "id": "58af2935",
   "metadata": {},
   "outputs": [
    {
     "name": "stdout",
     "output_type": "stream",
     "text": [
      "Enter the list size\" 4\n",
      "Enter values of List: 1\n",
      "Enter values of List: 2\n",
      "Enter values of List: 3\n",
      "Enter values of List: 4\n",
      "Enter the number to search for\" 3\n",
      "List after deleting 3: [1, 2, 4]\n"
     ]
    }
   ],
   "source": [
    "list1 = []\n",
    "listSize = int(input('Enter the list size\" '))\n",
    "for i in range(0,listSize):\n",
    "    list1.append(int(input('Enter values of List: ')))\n",
    "    \n",
    "num = int(input('Enter the number to search for\" '))\n",
    "for i in range(len(list1)-1):\n",
    "    if list1[i] == num:\n",
    "        list1.remove( num)\n",
    "print(f'List after deleting {num}:', list1)"
   ]
  },
  {
   "cell_type": "markdown",
   "id": "6be87722",
   "metadata": {},
   "source": [
    "#### Q15. You are given a list of integer elements. Make a new list that will store a\n",
    "square of elements of the previous list. (With and without list comprehension)  \n",
    "i. Input_list = [2,5,6,12]  \n",
    "ii. Output_list = [4,25,36,144]  "
   ]
  },
  {
   "cell_type": "code",
   "execution_count": 29,
   "id": "65752ba0",
   "metadata": {},
   "outputs": [
    {
     "name": "stdout",
     "output_type": "stream",
     "text": [
      "With comprehension    [4, 25, 36, 144]\n",
      "Without comprehension [4, 25, 36, 144]\n"
     ]
    }
   ],
   "source": [
    "def withComprehension(lst):\n",
    "    return [i*i for i in lst]\n",
    "Input_list = [2,5,6,12]\n",
    "\n",
    "def withOutComprehension(lst):\n",
    "    result = []\n",
    "    for i in lst:\n",
    "        result.append(i*i)\n",
    "    return result\n",
    "Input_list = [2,5,6,12]\n",
    "\n",
    "print('With comprehension   ', withComprehension(Input_list))\n",
    "print('Without comprehension', withOutComprehension(Input_list))\n"
   ]
  },
  {
   "cell_type": "markdown",
   "id": "9f528d75",
   "metadata": {},
   "source": [
    "#### Q16. WAP to create two lists, one containing all even numbers and the other containing all odd numbers between 0 to 151"
   ]
  },
  {
   "cell_type": "code",
   "execution_count": 35,
   "id": "33fb564c",
   "metadata": {},
   "outputs": [
    {
     "name": "stdout",
     "output_type": "stream",
     "text": [
      "Even numbers:  [0, 2, 4, 6, 8, 10, 12, 14, 16, 18, 20, 22, 24, 26, 28, 30, 32, 34, 36, 38, 40, 42, 44, 46, 48, 50, 52, 54, 56, 58, 60, 62, 64, 66, 68, 70, 72, 74, 76, 78, 80, 82, 84, 86, 88, 90, 92, 94, 96, 98, 100, 102, 104, 106, 108, 110, 112, 114, 116, 118, 120, 122, 124, 126, 128, 130, 132, 134, 136, 138, 140, 142, 144, 146, 148, 150]\n",
      "Odd numbers :  [1, 3, 5, 7, 9, 11, 13, 15, 17, 19, 21, 23, 25, 27, 29, 31, 33, 35, 37, 39, 41, 43, 45, 47, 49, 51, 53, 55, 57, 59, 61, 63, 65, 67, 69, 71, 73, 75, 77, 79, 81, 83, 85, 87, 89, 91, 93, 95, 97, 99, 101, 103, 105, 107, 109, 111, 113, 115, 117, 119, 121, 123, 125, 127, 129, 131, 133, 135, 137, 139, 141, 143, 145, 147, 149, 151]\n"
     ]
    }
   ],
   "source": [
    "even = []\n",
    "odd  = []\n",
    "for i in range(152):\n",
    "    if i%2 == 0:\n",
    "        even.append(i)\n",
    "    else:\n",
    "        odd.append(i)\n",
    "print('Even numbers: ', even)\n",
    "print('Odd numbers : ', odd)"
   ]
  },
  {
   "cell_type": "markdown",
   "id": "b2144492",
   "metadata": {},
   "source": [
    "#### Q17. Python program to Count Even and Odd numbers in a List"
   ]
  },
  {
   "cell_type": "code",
   "execution_count": 38,
   "id": "a79ae979",
   "metadata": {},
   "outputs": [
    {
     "name": "stdout",
     "output_type": "stream",
     "text": [
      "Even numbers:  4\n",
      "Odd numbers :  6\n"
     ]
    }
   ],
   "source": [
    "def countEvenOdd(list1):\n",
    "    even = 0\n",
    "    odd  = 0\n",
    "    for i in list1:\n",
    "        if i%2 == 0:\n",
    "            even += 1\n",
    "        else:\n",
    "            odd += 1\n",
    "    print('Even numbers: ', even)\n",
    "    print('Odd numbers : ', odd)\n",
    "countEvenOdd([2,4,7,8,3,5,6,35,73,35])"
   ]
  },
  {
   "cell_type": "markdown",
   "id": "aec90a0a",
   "metadata": {},
   "source": [
    "#### Q18. WAP to make new lists, containing only numbers which are divisible by 4, 6, 8, 10, 3, 5, 7, and 9 in separate lists for range(0,151)"
   ]
  },
  {
   "cell_type": "code",
   "execution_count": 6,
   "id": "4bff0f4c",
   "metadata": {},
   "outputs": [
    {
     "name": "stdout",
     "output_type": "stream",
     "text": [
      "res3 [0, 3, 6, 9, 12, 15, 18, 21, 24, 27, 30, 33, 36, 39, 42, 45, 48, 51, 54, 57, 60, 63, 66, 69, 72, 75, 78, 81, 84, 87, 90, 93, 96, 99, 102, 105, 108, 111, 114, 117, 120, 123, 126, 129, 132, 135, 138, 141, 144, 147, 150]\n",
      "res4 [0, 4, 8, 12, 16, 20, 24, 28, 32, 36, 40, 44, 48, 52, 56, 60, 64, 68, 72, 76, 80, 84, 88, 92, 96, 100, 104, 108, 112, 116, 120, 124, 128, 132, 136, 140, 144, 148]\n",
      "res5 [0, 5, 10, 15, 20, 25, 30, 35, 40, 45, 50, 55, 60, 65, 70, 75, 80, 85, 90, 95, 100, 105, 110, 115, 120, 125, 130, 135, 140, 145, 150]\n",
      "res6 [0, 6, 12, 18, 24, 30, 36, 42, 48, 54, 60, 66, 72, 78, 84, 90, 96, 102, 108, 114, 120, 126, 132, 138, 144, 150]\n",
      "res7 [0, 7, 14, 21, 28, 35, 42, 49, 56, 63, 70, 77, 84, 91, 98, 105, 112, 119, 126, 133, 140, 147]\n",
      "res8 [0, 8, 16, 24, 32, 40, 48, 56, 64, 72, 80, 88, 96, 104, 112, 120, 128, 136, 144]\n",
      "res9 [0, 9, 18, 27, 36, 45, 54, 63, 72, 81, 90, 99, 108, 117, 126, 135, 144]\n",
      "res10 [0, 10, 20, 30, 40, 50, 60, 70, 80, 90, 100, 110, 120, 130, 140, 150]\n"
     ]
    }
   ],
   "source": [
    "res3 = []\n",
    "res4 = []\n",
    "res5 = []\n",
    "res6 = []\n",
    "res7 = []\n",
    "res8 = []\n",
    "res9 = []\n",
    "res10 = []\n",
    "for i in range(152):\n",
    "    if i%3==0:\n",
    "        res3.append(i)\n",
    "    if i%4==0:\n",
    "        res4.append(i)\n",
    "    if i%5==0:\n",
    "        res5.append(i)\n",
    "    if i%6==0:\n",
    "        res6.append(i)\n",
    "    if i%7==0:\n",
    "        res7.append(i)\n",
    "    if i%8==0:\n",
    "        res8.append(i)\n",
    "    if i%9==0:\n",
    "        res9.append(i)\n",
    "    if i%10==0:\n",
    "        res10.append(i)\n",
    "\n",
    "print('res3', res3)\n",
    "print('res4', res4)\n",
    "print('res5', res5)\n",
    "print('res6', res6)\n",
    "print('res7', res7)\n",
    "print('res8', res8)\n",
    "print('res9', res9)\n",
    "print('res10', res10)"
   ]
  },
  {
   "cell_type": "markdown",
   "id": "e71310ce",
   "metadata": {},
   "source": [
    "#### Q19. From a list containing ints, strings, and floats, make three lists to store them separately."
   ]
  },
  {
   "cell_type": "code",
   "execution_count": 3,
   "id": "39d4eeb0",
   "metadata": {},
   "outputs": [
    {
     "name": "stdout",
     "output_type": "stream",
     "text": [
      "Integers:  [1]\n",
      "Floats [3.14]\n",
      "Strings ['Python']\n"
     ]
    }
   ],
   "source": [
    "def dTypeSeparator(lst):\n",
    "    intList = []\n",
    "    floatList = []\n",
    "    strList = []\n",
    "    for i in lst:\n",
    "        if type(i) == int:\n",
    "            intList.append(i)\n",
    "        if type(i) == float:\n",
    "            floatList.append(i)\n",
    "        if type(i) == str:\n",
    "            strList.append(i)\n",
    "    print('Integers: ', intList)\n",
    "    print('Floats', floatList)\n",
    "    print('Strings', strList)\n",
    "dTypeSeparator([1, 'Python', 3.14])"
   ]
  },
  {
   "cell_type": "markdown",
   "id": "ccca079b",
   "metadata": {},
   "source": [
    "#### Q20. What’s The Difference Between The Python append() and extend() Methods?"
   ]
  },
  {
   "cell_type": "markdown",
   "id": "e64cf871",
   "metadata": {},
   "source": [
    "<font color = blue><b>Append</b></font> function Adds the argument as single list. Increases size of list by one.  \n",
    "<b>e.g.</b>  \n",
    "list1 = [1, 2, 3]  \n",
    "list2 = [4, 5, 6]  \n",
    "list1.append(list2)  \n",
    "Here list1 will contain [1, 2, 3, [4, 5, 6] ]  \n",
    "<hr width = 7/>\n",
    "Where as <font color = blue><b>Extend</b></font> will iterate over its argument and adding each element, extending the list.<br>\n",
    "<b>e.g.</b><br>\n",
    "list1.append(list2)<br>  \n",
    "Here list2 will contain elements as [1, 2, 3, 4, 5, 6]"
   ]
  },
  {
   "cell_type": "markdown",
   "id": "2234278f",
   "metadata": {},
   "source": [
    "#### Q21. Write a Python program to append a list to the second list"
   ]
  },
  {
   "cell_type": "code",
   "execution_count": 1,
   "id": "908975ac",
   "metadata": {},
   "outputs": [
    {
     "name": "stdout",
     "output_type": "stream",
     "text": [
      "[1, 2, 3, [4, 5, 6]]\n"
     ]
    }
   ],
   "source": [
    "l1 = [1,2,3]\n",
    "l2 = [4,5,6]\n",
    "l1.append(l2)\n",
    "print(l1)"
   ]
  },
  {
   "cell_type": "markdown",
   "id": "1c0f64ff",
   "metadata": {},
   "source": [
    "#### Q22. Write a Python program to find the third-largest number in a list"
   ]
  },
  {
   "cell_type": "code",
   "execution_count": 5,
   "id": "4c3b9908",
   "metadata": {},
   "outputs": [
    {
     "name": "stdout",
     "output_type": "stream",
     "text": [
      "67\n"
     ]
    }
   ],
   "source": [
    "a = [3,55,34,67,84,23,7,90,45,64]\n",
    "a.sort()\n",
    "print(a[-3])"
   ]
  },
  {
   "cell_type": "markdown",
   "id": "6cf581ec",
   "metadata": {},
   "source": [
    "#### Q23. Write a Python program to get the frequency of the elements in a list."
   ]
  },
  {
   "cell_type": "code",
   "execution_count": 8,
   "id": "39ca4c97",
   "metadata": {},
   "outputs": [
    {
     "name": "stdout",
     "output_type": "stream",
     "text": [
      "4\n"
     ]
    }
   ],
   "source": [
    "def frequency(element, list1):\n",
    "    return list1.count(element)\n",
    "print(frequency(3, [1,4,3,2,3,5,6,7,3,5,3]))"
   ]
  },
  {
   "cell_type": "markdown",
   "id": "966a826a",
   "metadata": {},
   "source": [
    "#### Q24. Write a Python program to check whether a list contains a sublist"
   ]
  },
  {
   "cell_type": "code",
   "execution_count": 15,
   "id": "0645fa32",
   "metadata": {},
   "outputs": [
    {
     "name": "stdout",
     "output_type": "stream",
     "text": [
      "True\n",
      "False\n"
     ]
    }
   ],
   "source": [
    "def SubList(sublist, mainlist):\n",
    "    for element in sublist:\n",
    "        if element not in mainlist:\n",
    "            return False\n",
    "    return True\n",
    "print(SubList([1,3,5],[1,2,3,4,5,6,7,8,9]))\n",
    "print(SubList([1,3,5,76],[1,2,3,4,5,6,7,8,9]))\n"
   ]
  },
  {
   "cell_type": "markdown",
   "id": "49da4f11",
   "metadata": {},
   "source": [
    "#### Q25. Write a Python program to generate all sublists of a list"
   ]
  },
  {
   "cell_type": "code",
   "execution_count": null,
   "id": "7fac74e8",
   "metadata": {},
   "outputs": [],
   "source": [
    "lst = ['a','b','c']\n",
    "for i in range(len(lst)):\n",
    "    for j in range(len(lst)):\n",
    "        "
   ]
  },
  {
   "cell_type": "markdown",
   "id": "c910b679",
   "metadata": {},
   "source": [
    "#### Q26. Write a Python program to find common items from two lists"
   ]
  },
  {
   "cell_type": "code",
   "execution_count": 3,
   "id": "6ddb9c50",
   "metadata": {},
   "outputs": [
    {
     "name": "stdout",
     "output_type": "stream",
     "text": [
      "[2, 3]\n"
     ]
    }
   ],
   "source": [
    "def common(l1,l2):\n",
    "    result = []\n",
    "    for i in l1:\n",
    "        for j in l2:\n",
    "            if i == j:\n",
    "                result.append(i)\n",
    "    return result\n",
    "print(common([1,2,3], [2,3,4]))"
   ]
  },
  {
   "cell_type": "markdown",
   "id": "e9e2fb61",
   "metadata": {},
   "source": [
    "#### Q27. How to flatten a list in python?"
   ]
  },
  {
   "cell_type": "code",
   "execution_count": 4,
   "id": "36bc2e7c",
   "metadata": {},
   "outputs": [
    {
     "name": "stdout",
     "output_type": "stream",
     "text": [
      "[1, 2, 3, 4, 5, 6, 7, 8, 9]\n"
     ]
    }
   ],
   "source": [
    "def flatten(unflattenedList):\n",
    "    flattenedList = []\n",
    "    for list1 in unflattenedList:\n",
    "        for element in list1:\n",
    "            flattenedList.append(element)\n",
    "    return flattenedList\n",
    "print(flatten([[1, 2, 3], [4, 5, 6], [7], [8, 9]]))    "
   ]
  },
  {
   "cell_type": "markdown",
   "id": "9fa8494e",
   "metadata": {},
   "source": [
    "#### Q28. How to sort a list in ascending and descending order without using the sort function?"
   ]
  },
  {
   "cell_type": "code",
   "execution_count": 14,
   "id": "ca7e0a15",
   "metadata": {},
   "outputs": [
    {
     "name": "stdout",
     "output_type": "stream",
     "text": [
      "Ascending order is:  [12, 23, 34, 56, 67, 96]\n",
      "Descending order is:  [96, 67, 56, 34, 23, 12]\n"
     ]
    }
   ],
   "source": [
    "def sort(lst):\n",
    "    length = len(lst)\n",
    "    for i in range(length):\n",
    "        for j in range(length):\n",
    "            if lst[i] <= lst[j]:\n",
    "                lst[i],lst[j] = lst[j],lst[i]\n",
    "    return lst\n",
    "new = sort([34,67,23,96,12,56])\n",
    "print('Ascending order is: ',new)\n",
    "print('Descending order is: ',new[::-1])"
   ]
  },
  {
   "cell_type": "markdown",
   "id": "36a3959a",
   "metadata": {},
   "source": [
    "#### Q29. How to sort a tuple?"
   ]
  },
  {
   "cell_type": "code",
   "execution_count": 15,
   "id": "438c5122",
   "metadata": {},
   "outputs": [
    {
     "data": {
      "text/plain": [
       "[2, 2, 2, 3, 3, 3, 4, 5, 7, 9]"
      ]
     },
     "execution_count": 15,
     "metadata": {},
     "output_type": "execute_result"
    }
   ],
   "source": [
    "tuple1 = (3,2,5,3,7,2,9,4,3,2)\n",
    "list1 = sorted(tuple1)\n",
    "print(list1)"
   ]
  },
  {
   "cell_type": "markdown",
   "id": "2c9fbe3f",
   "metadata": {},
   "source": [
    "#### Q30. Write a Python program to convert a list of multiple integers into a single integer  \n",
    "a. [11, 33, 50] >>> 113350"
   ]
  },
  {
   "cell_type": "code",
   "execution_count": 1,
   "id": "7de5799c",
   "metadata": {},
   "outputs": [
    {
     "name": "stdout",
     "output_type": "stream",
     "text": [
      "113350\n"
     ]
    }
   ],
   "source": [
    "def multiIntToSinglInt(value):\n",
    "    result = ''\n",
    "    for num in value:\n",
    "        result += str(num)\n",
    "    return result\n",
    "     \n",
    "print(multiIntToSinglInt([11, 33, 50]))"
   ]
  },
  {
   "cell_type": "code",
   "execution_count": null,
   "id": "dc84e4a1",
   "metadata": {},
   "outputs": [],
   "source": []
  },
  {
   "cell_type": "code",
   "execution_count": null,
   "id": "3c26c510",
   "metadata": {},
   "outputs": [],
   "source": [
    "31. Difference between del and clear?"
   ]
  },
  {
   "cell_type": "markdown",
   "id": "59be20ba",
   "metadata": {},
   "source": [
    "| del  || clear    |\n",
    "|:-    ||:-        |\n",
    "| -Is a keyword  || -Is a function       |\n",
    "| -Deletes list object  || -Empties list    |\n",
    "|<b>-Syntax- </b> del list <b>or</b> del list[ i ]||<b>-Syntax- </b>list.clear|"
   ]
  },
  {
   "cell_type": "markdown",
   "id": "e07b461c",
   "metadata": {},
   "source": [
    "#### Q32. Difference between remove and pop?"
   ]
  },
  {
   "cell_type": "markdown",
   "id": "2938baf3",
   "metadata": {},
   "source": [
    "|remove()  ||pop()    |\n",
    "|:-    ||:-        |\n",
    "|-Can remove any value||-Removes last value by default|\n",
    "|-Takes value as parameter||-Takes index as parameter|\n",
    "|-No return value||-Returns deleted value|"
   ]
  },
  {
   "cell_type": "markdown",
   "id": "05c7f4bc",
   "metadata": {},
   "source": [
    "#### Q33. Difference between indexing and Slicing"
   ]
  },
  {
   "cell_type": "markdown",
   "id": "bb307a0f",
   "metadata": {},
   "source": [
    "| indexing || slicing|\n",
    "|:-||:-|\n",
    "|-Used to obtain individual items||-Used to obtain sequence of items|\n",
    "|-Array out of index error||-No error for out of index access|\n",
    "|-Returns single element||-May return new sequence|\n",
    "||||"
   ]
  },
  {
   "cell_type": "markdown",
   "id": "0447596f",
   "metadata": {},
   "source": [
    "#### Q34. Difference between sort and sorted?"
   ]
  },
  {
   "cell_type": "markdown",
   "id": "280be577",
   "metadata": {},
   "source": [
    "|sort()||sorted()|\n",
    "|:-||:-|\n",
    "|-Sorts original list||-Returns new sorted list|\n",
    "|-Is a method||-Is a built in function|\n",
    "|-Can sort only list||-Can sort any sequence|\n",
    "|-Does not return anything||-Returns new sorted sequence|"
   ]
  },
  {
   "cell_type": "markdown",
   "id": "309a6ca2",
   "metadata": {},
   "source": [
    "#### Q35. Difference between reverse and reversed?"
   ]
  },
  {
   "cell_type": "markdown",
   "id": "a1c3e8ea",
   "metadata": {},
   "source": [
    "|reverse()||reversed()|\n",
    "|:-||:-|\n",
    "|-Sorts original list||-Returns new sorted list|\n",
    "|-Can apply on list only||-Can apply on any sequence|\n",
    "|-Does not return anything||-Returns new reversed sequence|"
   ]
  },
  {
   "cell_type": "markdown",
   "id": "c00f16b0",
   "metadata": {},
   "source": [
    "#### Q36. Difference between copy and deep copy?"
   ]
  },
  {
   "cell_type": "markdown",
   "id": "da68216c",
   "metadata": {},
   "source": [
    "|copy||deep copy|\n",
    "|:-||:-|\n",
    "|-Creates new object which stores the reference of original element||-Creates new object and recursively adds the copies of nested objects present in the original object|\n",
    "|-If we change any element, it will reflect to original also||-If we change any element in copied object, it will not reflect original object|"
   ]
  },
  {
   "cell_type": "markdown",
   "id": "35e6b666",
   "metadata": {},
   "source": [
    "#### Q37. How to check whether the list is empty or not?"
   ]
  },
  {
   "cell_type": "code",
   "execution_count": 1,
   "id": "fe2faf20",
   "metadata": {},
   "outputs": [
    {
     "name": "stdout",
     "output_type": "stream",
     "text": [
      "List is empty\n",
      "List is empty\n"
     ]
    }
   ],
   "source": [
    "list1 = []\n",
    "####### FIrst method #####\n",
    "if len(list1) == 0:\n",
    "    print('List is empty')\n",
    "##### Second method #####\n",
    "if not list1:\n",
    "    print('List is empty')"
   ]
  },
  {
   "cell_type": "markdown",
   "id": "faf22bdf",
   "metadata": {},
   "source": [
    "#### Q38. How to concatenate two lists?"
   ]
  },
  {
   "cell_type": "code",
   "execution_count": 3,
   "id": "c60c61a9",
   "metadata": {},
   "outputs": [
    {
     "name": "stdout",
     "output_type": "stream",
     "text": [
      "[1, 2, 3, 4, 'a', 'b', 'c']\n",
      "[1, 2, 3, 4, 'a', 'b', 'c']\n"
     ]
    }
   ],
   "source": [
    "l1 = [1,2,3,4]\n",
    "l2 = ['a','b','c']\n",
    "#First way\n",
    "l3 = l1+l2\n",
    "print(l3)\n",
    "#Second way\n",
    "l1.extend(l2)\n",
    "print(l1)"
   ]
  },
  {
   "cell_type": "markdown",
   "id": "ad3d1139",
   "metadata": {},
   "source": [
    "#### Q39. How to find the occurrences of an element in the python list?"
   ]
  },
  {
   "cell_type": "code",
   "execution_count": null,
   "id": "a06ab459",
   "metadata": {},
   "outputs": [],
   "source": [
    "def frequency(element, lst):\n",
    "    return lst.count(element)\n",
    "print(frequency(3,[1,3,2,3,5,6,3,6,8,9]))"
   ]
  },
  {
   "cell_type": "markdown",
   "id": "07019693",
   "metadata": {},
   "source": [
    "#### Q40. How to flatten a list in python?"
   ]
  },
  {
   "cell_type": "code",
   "execution_count": null,
   "id": "21691425",
   "metadata": {},
   "outputs": [],
   "source": [
    "def flatten(unflattenedList):\n",
    "    flattenedList = []\n",
    "    for list1 in unflattenedList:\n",
    "        for element in list1:\n",
    "            flattenedList.append(element)\n",
    "    return flattenedList\n",
    "print(flatten([[1, 2, 3], [4, 5, 6], [7], [8, 9]]))"
   ]
  }
 ],
 "metadata": {
  "kernelspec": {
   "display_name": "Python 3 (ipykernel)",
   "language": "python",
   "name": "python3"
  },
  "language_info": {
   "codemirror_mode": {
    "name": "ipython",
    "version": 3
   },
   "file_extension": ".py",
   "mimetype": "text/x-python",
   "name": "python",
   "nbconvert_exporter": "python",
   "pygments_lexer": "ipython3",
   "version": "3.9.7"
  }
 },
 "nbformat": 4,
 "nbformat_minor": 5
}
